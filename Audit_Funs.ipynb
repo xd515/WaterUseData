{
 "cells": [
  {
   "cell_type": "markdown",
   "metadata": {},
   "source": [
    "## Audit Functions"
   ]
  },
  {
   "cell_type": "code",
   "execution_count": 1,
   "metadata": {
    "collapsed": true
   },
   "outputs": [],
   "source": [
    "from func_factory import discribe\n",
    "from func_factory import missings_report"
   ]
  },
  {
   "cell_type": "code",
   "execution_count": 2,
   "metadata": {},
   "outputs": [
    {
     "name": "stdout",
     "output_type": "stream",
     "text": [
      "There are 109899 rows and 26 columns displayed by the dataset.\n",
      "Names of columns are: \n",
      "  occupant_code\n",
      "  debtor_number\n",
      "  category_code\n",
      "  category_description\n",
      "  bill_code\n",
      "  utility_type\n",
      "  start_date\n",
      "  end_date\n",
      "  current_read_date\n",
      "  last_read_date\n",
      "  usage_hcf\n",
      "  usage_gallons\n",
      "  net\n",
      "  bill_date\n",
      "  batch_number\n",
      "  street_name\n",
      "  block_address\n",
      "  street_side\n",
      "  zip_code\n",
      "  census_block_id\n",
      "  street_centroid_lat\n",
      "  street_centroid_long\n",
      "  street_centroid_wkt\n",
      "  street_centroid\n",
      "  street_segment_wkt\n",
      "  id\n"
     ]
    }
   ],
   "source": [
    "discribe('Water_Usage2012.csv')"
   ]
  },
  {
   "cell_type": "code",
   "execution_count": 3,
   "metadata": {},
   "outputs": [
    {
     "name": "stdout",
     "output_type": "stream",
     "text": [
      "Caution: There are missing values in the dataset.\n",
      "The completence of the whole dataset is 95.78%.\n",
      "  'occupant_code' : 100.00%\n",
      "  'debtor_number' : 100.00%\n",
      "  'category_code' : 100.00%\n",
      "  'category_description' : 100.00%\n",
      "  'bill_code' : 99.09%\n",
      "  'utility_type' : 100.00%\n",
      "  'start_date' : 100.00%\n",
      "  'end_date' : 15.24%\n",
      "  'current_read_date' : 100.00%\n",
      "  'last_read_date' : 100.00%\n",
      "  'usage_hcf' : 99.83%\n",
      "  'usage_gallons' : 99.83%\n",
      "  'net' : 100.00%\n",
      "  'bill_date' : 100.00%\n",
      "  'batch_number' : 100.00%\n",
      "  'street_name' : 100.00%\n",
      "  'block_address' : 100.00%\n",
      "  'street_side' : 97.61%\n",
      "  'zip_code' : 100.00%\n",
      "  'census_block_id' : 86.49%\n",
      "  'street_centroid_lat' : 100.00%\n",
      "  'street_centroid_long' : 100.00%\n",
      "  'street_centroid_wkt' : 97.61%\n",
      "  'street_centroid' : 96.83%\n",
      "  'street_segment_wkt' : 97.61%\n",
      "  'id' : 100.00%\n"
     ]
    }
   ],
   "source": [
    "missings_report('Water_Usage2012.csv')"
   ]
  },
  {
   "cell_type": "code",
   "execution_count": null,
   "metadata": {
    "collapsed": true
   },
   "outputs": [],
   "source": []
  }
 ],
 "metadata": {
  "kernelspec": {
   "display_name": "Python 3",
   "language": "python",
   "name": "python3"
  },
  "language_info": {
   "codemirror_mode": {
    "name": "ipython",
    "version": 3
   },
   "file_extension": ".py",
   "mimetype": "text/x-python",
   "name": "python",
   "nbconvert_exporter": "python",
   "pygments_lexer": "ipython3",
   "version": "3.6.3"
  }
 },
 "nbformat": 4,
 "nbformat_minor": 2
}
